{
 "cells": [
  {
   "cell_type": "code",
   "execution_count": 1,
   "metadata": {},
   "outputs": [],
   "source": [
    "import numpy as np"
   ]
  },
  {
   "cell_type": "code",
   "execution_count": 2,
   "metadata": {},
   "outputs": [],
   "source": [
    "def m_hall(cambia,verbose = False):\n",
    "    ## hay 3 puertas, una sola tiene un premio\n",
    "    verdad = [0,0,1]\n",
    "    np.random.shuffle(verdad)\n",
    "    ## jugador elige una puerta\n",
    "    eleccion = np.random.randint(3)\n",
    "    ## el anfitrion le abre una:\n",
    "    posibles_puertas_abrir = [ x == 0 for x in verdad]\n",
    "    posibles_puertas_abrir[eleccion] = False\n",
    "    posibles_puertas_abrir = np.where(posibles_puertas_abrir)[0]\n",
    "    puerta_anfitrion_abre = np.random.choice(posibles_puertas_abrir)\n",
    "    ## elige cambiar o no?\n",
    "    if cambia:\n",
    "        eleccion_nueva = [0,1,2]\n",
    "        eleccion_nueva.remove(eleccion)\n",
    "        eleccion_nueva.remove(puerta_anfitrion_abre)\n",
    "        eleccion = eleccion_nueva[0]\n",
    "\n",
    "    ## se descubre la verdad\n",
    "    if verdad[eleccion] == 1:\n",
    "        jugador_gana = True\n",
    "    else:\n",
    "        jugador_gana = False\n",
    "\n",
    "    if verbose:\n",
    "        print(f\"Las puertas quedaron: {verdad}\")\n",
    "        print(f\"El jugador elige la puerta {eleccion +1 }\")\n",
    "        print(f\"El anfitrion abre la puerta {puerta_anfitrion_abre +1 }\")\n",
    "        if cambia: \n",
    "            print(f\"El jugador cambia a la puerta {eleccion +1}\")\n",
    "        else :\n",
    "            print(\"El jugador decide no cambiar\")\n",
    "        if jugador_gana:\n",
    "            print(\"El jugador gana\")\n",
    "        else:\n",
    "            print(\"El jugador pierde\")\n",
    "    return jugador_gana"
   ]
  },
  {
   "cell_type": "code",
   "execution_count": 3,
   "metadata": {},
   "outputs": [],
   "source": [
    "iteraciones = 10000000"
   ]
  },
  {
   "cell_type": "code",
   "execution_count": 4,
   "metadata": {},
   "outputs": [],
   "source": [
    "def simular(cambia,iteraciones):\n",
    "    victorias = 0\n",
    "    for i in range(iteraciones):\n",
    "        victorias += int(m_hall(cambia))\n",
    "    print(f\"Jugador gano el {victorias/iteraciones} % de las veces\")"
   ]
  },
  {
   "cell_type": "code",
   "execution_count": 5,
   "metadata": {},
   "outputs": [
    {
     "name": "stdout",
     "output_type": "stream",
     "text": [
      "Jugador gano el 0.6666651 % de las veces\n"
     ]
    }
   ],
   "source": [
    "simular(True,iteraciones)"
   ]
  },
  {
   "cell_type": "code",
   "execution_count": 6,
   "metadata": {},
   "outputs": [
    {
     "name": "stdout",
     "output_type": "stream",
     "text": [
      "Jugador gano el 0.3329399 % de las veces\n"
     ]
    }
   ],
   "source": [
    "simular(False,iteraciones)"
   ]
  }
 ],
 "metadata": {
  "kernelspec": {
   "display_name": "Python 3",
   "language": "python",
   "name": "python3"
  },
  "language_info": {
   "codemirror_mode": {
    "name": "ipython",
    "version": 3
   },
   "file_extension": ".py",
   "mimetype": "text/x-python",
   "name": "python",
   "nbconvert_exporter": "python",
   "pygments_lexer": "ipython3",
   "version": "3.6.5"
  }
 },
 "nbformat": 4,
 "nbformat_minor": 2
}
